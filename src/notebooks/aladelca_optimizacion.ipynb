{
 "cells": [
  {
   "cell_type": "code",
   "execution_count": 25,
   "metadata": {},
   "outputs": [],
   "source": [
    "\n",
    "import requests\n",
    "from datetime import datetime, timedelta\n",
    "import pandas as pd\n",
    "# Configuración\n",
    "BASE_URL = \"http://localhost:8000\"\n",
    "\n",
    "def predict_api(ticker, start_date, end_date, batch=False):\n",
    "    url = f\"{BASE_URL}/predict\"\n",
    "    payload = {\n",
    "        \"tick\": ticker,\n",
    "        \"fecha_inicio\": start_date,\n",
    "        \"fecha_fin\": end_date,\n",
    "        \"batch\": batch\n",
    "    }\n",
    "    response = requests.post(url, json=payload)\n",
    "    return pd.DataFrame(response.json()[\"predicciones\"].values(), response.json()[\"predicciones\"].keys(), columns=[\"prediccion\"])"
   ]
  },
  {
   "cell_type": "code",
   "execution_count": null,
   "metadata": {},
   "outputs": [],
   "source": [
    "import glob\n",
    "import os\n",
    "import pandas as pd\n",
    "\n",
    "# Obtener todos los archivos parquet en el directorio\n",
    "\n",
    "modelos_disponibles = glob.glob(\"../models/*.joblib\")\n",
    "tickers = [i[i.find(\"prophet_\") + 8: i.find(\"joblib\")-1] for i in modelos_disponibles]\n",
    "\n"
   ]
  },
  {
   "cell_type": "code",
   "execution_count": 51,
   "metadata": {},
   "outputs": [],
   "source": [
    "preds = predict_api(tickers[0], \"2025-01-01\", \"2025-12-31\", batch=False)\n",
    "\n",
    "tickers_disponibles =[]\n",
    "for ticker in tickers:  \n",
    "    try:\n",
    "        preds = predict_api(ticker, \"2025-01-01\", \"2025-12-31\", batch=False)\n",
    "        tickers_disponibles.append(ticker)\n",
    "    except:\n",
    "        pass\n",
    "\n"
   ]
  },
  {
   "cell_type": "code",
   "execution_count": null,
   "metadata": {},
   "outputs": [],
   "source": [
    "numero_variables = len(tickers_disponibles)"
   ]
  },
  {
   "cell_type": "code",
   "execution_count": null,
   "metadata": {},
   "outputs": [],
   "source": [
    "preds = predict_api(tickers_disponibles[0], \"2025-01-01\", \"2025-12-31\", batch=False)\n",
    "valor_inicial = preds.head(1).values[0][0]\n",
    "valor_final = preds.tail(1).values[0][0]\n",
    "preds.tail(1).values[0][0] - preds.head(1).values[0][0]\n",
    "\n",
    "100 * valor_final / valor_inicial"
   ]
  },
  {
   "cell_type": "code",
   "execution_count": null,
   "metadata": {},
   "outputs": [],
   "source": [
    "tickers_disponibles"
   ]
  },
  {
   "cell_type": "code",
   "execution_count": null,
   "metadata": {},
   "outputs": [],
   "source": [
    "import pulp\n",
    "\n",
    "\n",
    "# Variables de decisión\n",
    "monto_invertido = pulp.LpVariable.dicts(\"monto_invertido\", tickers_disponibles,lowBound=0)\n",
    "variable_binaria = pulp.LpVariable.dicts(\"variable_binaria\", tickers_disponibles,cat=\"Binary\")\n",
    "\n",
    "# Función objetivo\n",
    "\n",
    "prob = pulp.LpProblem(\"optimizacion_platita\", pulp.LpMaximize)\n",
    "rendimiento_total = 0\n",
    "for ticker in tickers_disponibles:\n",
    "    preds = predict_api(ticker, \"2025-01-01\", \"2026-12-31\", batch=False)\n",
    "    rendimiento = monto_invertido[ticker] * preds.tail(1).values[0][0] / preds.head(1).values[0][0]\n",
    "    rendimiento_total += rendimiento\n",
    "\n",
    "# Función objetivo\n",
    "prob += rendimiento_total\n",
    "\n",
    "# Restricciones\n",
    "# Presupuesto\n",
    "prob += pulp.lpSum(monto_invertido) <= 10000\n",
    "\n",
    "# Diversificación\n",
    "prob += pulp.lpSum(variable_binaria) >= 15\n",
    "\n",
    "# Límite máximo por acción (20% del presupuesto)\n",
    "for ticker in tickers_disponibles:\n",
    "    prob += monto_invertido[ticker] <= 2000 * variable_binaria[ticker]  # 20% de 10000\n",
    "\n",
    "\n",
    "# Restricciones de no negatividad\n",
    "for ticker in tickers_disponibles:\n",
    "    prob += monto_invertido[ticker] >= 0\n",
    "\n",
    "# Conexión con la variable binaria\n",
    "M = 10e10\n",
    "for ticker in tickers_disponibles:\n",
    "    prob += monto_invertido[ticker] <= M * variable_binaria[ticker]\n",
    "    prob += monto_invertido[ticker] >= 100 * variable_binaria[ticker]\n",
    "\n",
    "# Resolver el problema\n",
    "prob.solve()\n"
   ]
  },
  {
   "cell_type": "code",
   "execution_count": null,
   "metadata": {},
   "outputs": [],
   "source": [
    "prob.objective.value()"
   ]
  },
  {
   "cell_type": "code",
   "execution_count": null,
   "metadata": {},
   "outputs": [],
   "source": [
    "print(\"\\nVariables de productos:\")\n",
    "for ticker in tickers_disponibles:\n",
    "    if pulp.value(variable_binaria[ticker]) == 1:\n",
    "        print(f\"{ticker} = {pulp.value(monto_invertido[ticker])}\")"
   ]
  },
  {
   "cell_type": "code",
   "execution_count": null,
   "metadata": {},
   "outputs": [],
   "source": [
    "preds = predict_api(\"S&P500\", \"2025-01-01\", \"2025-12-31\", batch=False)\n",
    "10000 *preds.tail(1).values[0][0] / preds.head(1).values[0][0]\n"
   ]
  },
  {
   "cell_type": "code",
   "execution_count": null,
   "metadata": {},
   "outputs": [],
   "source": [
    "10000*(1.07)"
   ]
  }
 ],
 "metadata": {
  "kernelspec": {
   "display_name": ".venv",
   "language": "python",
   "name": "python3"
  },
  "language_info": {
   "codemirror_mode": {
    "name": "ipython",
    "version": 3
   },
   "file_extension": ".py",
   "mimetype": "text/x-python",
   "name": "python",
   "nbconvert_exporter": "python",
   "pygments_lexer": "ipython3",
   "version": "3.12.7"
  }
 },
 "nbformat": 4,
 "nbformat_minor": 2
}
