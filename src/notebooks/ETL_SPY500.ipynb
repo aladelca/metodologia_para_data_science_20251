{
 "cells": [
  {
   "cell_type": "code",
   "execution_count": 1,
   "id": "c7f8aec3-a3f0-4aa9-b680-bdba0b3e1751",
   "metadata": {},
   "outputs": [],
   "source": [
    "import yfinance as yf\n",
    "import pandas as pd"
   ]
  },
  {
   "cell_type": "code",
   "execution_count": 2,
   "id": "62c42d4e-47cc-45b9-8be5-58053cb476f7",
   "metadata": {},
   "outputs": [],
   "source": [
    "# Definir ticker\n",
    "ticker = \"SPY\""
   ]
  },
  {
   "cell_type": "code",
   "execution_count": 3,
   "id": "43851189-db3b-4d71-a0c0-fc0e612424ec",
   "metadata": {},
   "outputs": [
    {
     "name": "stdout",
     "output_type": "stream",
     "text": [
      "YF.download() has changed argument auto_adjust default to True\n"
     ]
    },
    {
     "name": "stderr",
     "output_type": "stream",
     "text": [
      "[*********************100%***********************]  1 of 1 completed\n"
     ]
    }
   ],
   "source": [
    "# Descargar datos históricos\n",
    "data = yf.download(ticker, start=\"2020-01-01\", end=\"2025-04-25\")"
   ]
  },
  {
   "cell_type": "code",
   "execution_count": 4,
   "id": "f72f0f27-9289-480b-b81d-209fd3d80314",
   "metadata": {},
   "outputs": [],
   "source": [
    "# Crear el DataFrame con periodo y valor\n",
    "df = data[['Close']].copy()\n",
    "df = df.rename(columns={'Close': 'valor'})\n",
    "df['periodo'] = df.index\n",
    "df = df[['periodo', 'valor']]\n"
   ]
  },
  {
   "cell_type": "code",
   "execution_count": 5,
   "id": "dac4aa83-7772-44ae-bd6e-51cd26bf9640",
   "metadata": {},
   "outputs": [],
   "source": [
    "# Resetear index\n",
    "df = df.reset_index(drop=True)"
   ]
  },
  {
   "cell_type": "code",
   "execution_count": 6,
   "id": "62fe8336-08f3-4172-899c-b53b284ca5f6",
   "metadata": {},
   "outputs": [
    {
     "data": {
      "text/html": [
       "<div>\n",
       "<style scoped>\n",
       "    .dataframe tbody tr th:only-of-type {\n",
       "        vertical-align: middle;\n",
       "    }\n",
       "\n",
       "    .dataframe tbody tr th {\n",
       "        vertical-align: top;\n",
       "    }\n",
       "\n",
       "    .dataframe thead tr th {\n",
       "        text-align: left;\n",
       "    }\n",
       "</style>\n",
       "<table border=\"1\" class=\"dataframe\">\n",
       "  <thead>\n",
       "    <tr>\n",
       "      <th>Price</th>\n",
       "      <th>periodo</th>\n",
       "      <th>valor</th>\n",
       "    </tr>\n",
       "    <tr>\n",
       "      <th>Ticker</th>\n",
       "      <th></th>\n",
       "      <th>SPY</th>\n",
       "    </tr>\n",
       "  </thead>\n",
       "  <tbody>\n",
       "    <tr>\n",
       "      <th>0</th>\n",
       "      <td>2020-01-02</td>\n",
       "      <td>300.291595</td>\n",
       "    </tr>\n",
       "    <tr>\n",
       "      <th>1</th>\n",
       "      <td>2020-01-03</td>\n",
       "      <td>298.017761</td>\n",
       "    </tr>\n",
       "    <tr>\n",
       "      <th>2</th>\n",
       "      <td>2020-01-06</td>\n",
       "      <td>299.154602</td>\n",
       "    </tr>\n",
       "    <tr>\n",
       "      <th>3</th>\n",
       "      <td>2020-01-07</td>\n",
       "      <td>298.313507</td>\n",
       "    </tr>\n",
       "    <tr>\n",
       "      <th>4</th>\n",
       "      <td>2020-01-08</td>\n",
       "      <td>299.903412</td>\n",
       "    </tr>\n",
       "  </tbody>\n",
       "</table>\n",
       "</div>"
      ],
      "text/plain": [
       "Price     periodo       valor\n",
       "Ticker                    SPY\n",
       "0      2020-01-02  300.291595\n",
       "1      2020-01-03  298.017761\n",
       "2      2020-01-06  299.154602\n",
       "3      2020-01-07  298.313507\n",
       "4      2020-01-08  299.903412"
      ]
     },
     "execution_count": 6,
     "metadata": {},
     "output_type": "execute_result"
    }
   ],
   "source": [
    "df.head()"
   ]
  },
  {
   "cell_type": "code",
   "execution_count": 7,
   "id": "1cbc7bd0-115e-4189-97ac-0bf1ffbe9047",
   "metadata": {},
   "outputs": [
    {
     "data": {
      "text/plain": [
       "(1335, 2)"
      ]
     },
     "execution_count": 7,
     "metadata": {},
     "output_type": "execute_result"
    }
   ],
   "source": [
    "df.shape"
   ]
  },
  {
   "cell_type": "code",
   "execution_count": 8,
   "id": "598b5baf-813f-4d65-93c9-f8e26b475e66",
   "metadata": {},
   "outputs": [],
   "source": [
    "df.to_csv('spy500_valores.csv', index=False)"
   ]
  },
  {
   "cell_type": "code",
   "execution_count": null,
   "id": "7c136ab6-bc7e-43f7-9e6a-9c87d20a3593",
   "metadata": {},
   "outputs": [],
   "source": []
  }
 ],
 "metadata": {
  "kernelspec": {
   "display_name": "Python 3 (ipykernel)",
   "language": "python",
   "name": "python3"
  },
  "language_info": {
   "codemirror_mode": {
    "name": "ipython",
    "version": 3
   },
   "file_extension": ".py",
   "mimetype": "text/x-python",
   "name": "python",
   "nbconvert_exporter": "python",
   "pygments_lexer": "ipython3",
   "version": "3.12.3"
  }
 },
 "nbformat": 4,
 "nbformat_minor": 5
}
