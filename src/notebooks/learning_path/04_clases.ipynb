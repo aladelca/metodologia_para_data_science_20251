{
  "cells": [
    {
      "cell_type": "markdown",
      "metadata": {},
      "source": [
        "# Clases y Programaci\u00f3n Orientada a Objetos en Python",
        "",
        "Este notebook explora los conceptos fundamentales de la Programaci\u00f3n Orientada a Objetos (POO) en Python.",
        "",
        "## Contenido",
        "1. Definici\u00f3n de Clases",
        "2. Herencia",
        "3. Encapsulaci\u00f3n",
        "4. Polimorfismo",
        "5. M\u00e9todos Especiales"
      ]
    },
    {
      "cell_type": "markdown",
      "metadata": {},
      "source": [
        "## 1. Definici\u00f3n de Clases",
        "",
        "Una clase es una plantilla para crear objetos que encapsulan datos y comportamiento."
      ]
    },
    {
      "cell_type": "code",
      "execution_count": null,
      "metadata": {},
      "outputs": [],
      "source": [
        "class Persona:",
        "    def __init__(self, nombre, edad):",
        "        self.nombre = nombre",
        "        self.edad = edad",
        "    ",
        "    def presentarse(self):",
        "        return f\"Hola, soy {self.nombre} y tengo {self.edad} a\u00f1os\"",
        "",
        "# Crear instancias de la clase",
        "persona1 = Persona(\"Ana\", 25)",
        "persona2 = Persona(\"Juan\", 30)",
        "",
        "print(persona1.presentarse())",
        "print(persona2.presentarse())"
      ]
    },
    {
      "cell_type": "markdown",
      "metadata": {},
      "source": [
        "## 2. Herencia",
        "",
        "La herencia permite crear nuevas clases basadas en clases existentes."
      ]
    },
    {
      "cell_type": "code",
      "execution_count": null,
      "metadata": {},
      "outputs": [],
      "source": [
        "class Empleado(Persona):",
        "    def __init__(self, nombre, edad, salario):",
        "        super().__init__(nombre, edad)",
        "        self.salario = salario",
        "    ",
        "    def presentarse(self):",
        "        return f\"{super().presentarse()} y gano {self.salario}\u20ac\"",
        "",
        "# Crear una instancia de Empleado",
        "empleado = Empleado(\"Carlos\", 35, 30000)",
        "print(empleado.presentarse())"
      ]
    },
    {
      "cell_type": "markdown",
      "metadata": {},
      "source": [
        "## 3. Encapsulaci\u00f3n",
        "",
        "La encapsulaci\u00f3n permite ocultar los detalles internos de una clase."
      ]
    },
    {
      "cell_type": "code",
      "execution_count": null,
      "metadata": {},
      "outputs": [],
      "source": [
        "class CuentaBancaria:",
        "    def __init__(self, saldo_inicial):",
        "        self.__saldo = saldo_inicial  # Atributo privado",
        "    ",
        "    def depositar(self, cantidad):",
        "        if cantidad > 0:",
        "            self.__saldo += cantidad",
        "            return True",
        "        return False",
        "    ",
        "    def retirar(self, cantidad):",
        "        if 0 < cantidad <= self.__saldo:",
        "            self.__saldo -= cantidad",
        "            return True",
        "        return False",
        "    ",
        "    def obtener_saldo(self):",
        "        return self.__saldo",
        "",
        "# Usar la cuenta bancaria",
        "cuenta = CuentaBancaria(1000)",
        "print(f\"Saldo inicial: {cuenta.obtener_saldo()}\u20ac\")",
        "",
        "cuenta.depositar(500)",
        "print(f\"Despu\u00e9s de depositar 500\u20ac: {cuenta.obtener_saldo()}\u20ac\")",
        "",
        "cuenta.retirar(200)",
        "print(f\"Despu\u00e9s de retirar 200\u20ac: {cuenta.obtener_saldo()}\u20ac\")"
      ]
    },
    {
      "cell_type": "markdown",
      "metadata": {},
      "source": [
        "## 4. Polimorfismo",
        "",
        "El polimorfismo permite que objetos de diferentes clases respondan al mismo m\u00e9todo."
      ]
    },
    {
      "cell_type": "code",
      "execution_count": null,
      "metadata": {},
      "outputs": [],
      "source": [
        "class Animal:",
        "    def hacer_sonido(self):",
        "        pass",
        "",
        "class Perro(Animal):",
        "    def hacer_sonido(self):",
        "        return \"\u00a1Guau!\"",
        "",
        "class Gato(Animal):",
        "    def hacer_sonido(self):",
        "        return \"\u00a1Miau!\"",
        "",
        "# Funci\u00f3n que trabaja con cualquier Animal",
        "def escuchar_animal(animal):",
        "    print(f\"El animal dice: {animal.hacer_sonido()}\")",
        "",
        "# Crear instancias y usar polimorfismo",
        "perro = Perro()",
        "gato = Gato()",
        "",
        "escuchar_animal(perro)",
        "escuchar_animal(gato)"
      ]
    },
    {
      "cell_type": "markdown",
      "metadata": {},
      "source": [
        "## 5. M\u00e9todos Especiales",
        "",
        "Los m\u00e9todos especiales (o m\u00e9todos m\u00e1gicos) permiten definir c\u00f3mo se comportan los objetos en diferentes situaciones."
      ]
    },
    {
      "cell_type": "code",
      "execution_count": null,
      "metadata": {},
      "outputs": [],
      "source": [
        "class Vector:",
        "    def __init__(self, x, y):",
        "        self.x = x",
        "        self.y = y",
        "    ",
        "    def __str__(self):",
        "        return f\"Vector({self.x}, {self.y})\"",
        "    ",
        "    def __add__(self, otro):",
        "        return Vector(self.x + otro.x, self.y + otro.y)",
        "    ",
        "    def __len__(self):",
        "        return int((self.x ** 2 + self.y ** 2) ** 0.5)",
        "    ",
        "    def __eq__(self, otro):",
        "        return self.x == otro.x and self.y == otro.y",
        "",
        "# Usar los m\u00e9todos especiales",
        "v1 = Vector(2, 3)",
        "v2 = Vector(3, 4)",
        "",
        "print(f\"v1 = {v1}\")",
        "print(f\"v2 = {v2}\")",
        "print(f\"v1 + v2 = {v1 + v2}\")",
        "print(f\"Longitud de v1: {len(v1)}\")",
        "print(f\"\u00bfv1 == v2? {v1 == v2}\")"
      ]
    }
  ],
  "metadata": {
    "kernelspec": {
      "display_name": "Python 3",
      "language": "python",
      "name": "python3"
    },
    "language_info": {
      "codemirror_mode": {
        "name": "ipython",
        "version": 3
      },
      "file_extension": ".py",
      "mimetype": "text/x-python",
      "name": "python",
      "nbconvert_exporter": "python",
      "pygments_lexer": "ipython3",
      "version": "3.8.0"
    }
  },
  "nbformat": 4,
  "nbformat_minor": 4
}
