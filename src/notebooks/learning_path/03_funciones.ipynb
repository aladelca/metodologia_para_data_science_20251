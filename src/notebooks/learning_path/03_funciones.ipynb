{
  "cells": [
    {
      "cell_type": "markdown",
      "metadata": {},
      "source": [
        "# Funciones en Python",
        "",
        "Este notebook explora el uso de funciones en Python, una herramienta fundamental para la organizaci\u00f3n y reutilizaci\u00f3n de c\u00f3digo.",
        "",
        "## Contenido",
        "1. Definici\u00f3n y Llamada de Funciones",
        "2. Argumentos y Par\u00e1metros",
        "3. Retorno de Valores",
        "4. Funciones Lambda",
        "5. Decoradores"
      ]
    },
    {
      "cell_type": "markdown",
      "metadata": {},
      "source": [
        "## 1. Definici\u00f3n y Llamada de Funciones",
        "",
        "Las funciones se definen usando la palabra clave `def`."
      ]
    },
    {
      "cell_type": "code",
      "execution_count": null,
      "metadata": {},
      "outputs": [],
      "source": [
        "# Funci\u00f3n b\u00e1sica",
        "def saludar():",
        "    print(\"\u00a1Hola, mundo!\")",
        "",
        "# Llamada a la funci\u00f3n",
        "saludar()",
        "",
        "# Funci\u00f3n con documentaci\u00f3n",
        "def saludar_persona(nombre):",
        "    \"\"\"",
        "    Saluda a una persona por su nombre.",
        "    ",
        "    Args:",
        "        nombre (str): Nombre de la persona a saludar",
        "    \"\"\"",
        "    print(f\"\u00a1Hola, {nombre}!\")",
        "",
        "saludar_persona(\"Ana\")"
      ]
    },
    {
      "cell_type": "markdown",
      "metadata": {},
      "source": [
        "## 2. Argumentos y Par\u00e1metros",
        "",
        "Python ofrece varias formas de pasar argumentos a las funciones."
      ]
    },
    {
      "cell_type": "code",
      "execution_count": null,
      "metadata": {},
      "outputs": [],
      "source": [
        "# Par\u00e1metros posicionales y con valores por defecto",
        "def describir_persona(nombre, edad=25, ciudad=\"desconocida\"):",
        "    print(f\"{nombre} tiene {edad} a\u00f1os y vive en {ciudad}\")",
        "",
        "describir_persona(\"Juan\")",
        "describir_persona(\"Mar\u00eda\", 30)",
        "describir_persona(\"Pedro\", ciudad=\"Madrid\")",
        "",
        "# Args y kwargs",
        "def info_contacto(*args, **kwargs):",
        "    print(\"Args:\", args)",
        "    print(\"Kwargs:\", kwargs)",
        "",
        "info_contacto(\"Juan\", \"Pedro\", email=\"juan@mail.com\", tel=\"123456789\")"
      ]
    },
    {
      "cell_type": "markdown",
      "metadata": {},
      "source": [
        "## 3. Retorno de Valores",
        "",
        "Las funciones pueden retornar uno o m\u00faltiples valores."
      ]
    },
    {
      "cell_type": "code",
      "execution_count": null,
      "metadata": {},
      "outputs": [],
      "source": [
        "# Retorno simple",
        "def cuadrado(x):",
        "    return x ** 2",
        "",
        "# Retorno m\u00faltiple",
        "def estadisticas(numeros):",
        "    return min(numeros), max(numeros), sum(numeros)/len(numeros)",
        "",
        "# Uso de las funciones",
        "print(f\"El cuadrado de 5 es {cuadrado(5)}\")",
        "",
        "nums = [1, 2, 3, 4, 5]",
        "minimo, maximo, promedio = estadisticas(nums)",
        "print(f\"M\u00ednimo: {minimo}, M\u00e1ximo: {maximo}, Promedio: {promedio:.2f}\")"
      ]
    },
    {
      "cell_type": "markdown",
      "metadata": {},
      "source": [
        "## 4. Funciones Lambda",
        "",
        "Las funciones lambda son funciones an\u00f3nimas de una sola l\u00ednea."
      ]
    },
    {
      "cell_type": "code",
      "execution_count": null,
      "metadata": {},
      "outputs": [],
      "source": [
        "# Funci\u00f3n lambda b\u00e1sica",
        "cubo = lambda x: x ** 3",
        "",
        "# Uso con map",
        "numeros = [1, 2, 3, 4, 5]",
        "cubos = list(map(lambda x: x ** 3, numeros))",
        "",
        "print(f\"N\u00fameros: {numeros}\")",
        "print(f\"Cubos: {cubos}\")",
        "",
        "# Uso con filter",
        "pares = list(filter(lambda x: x % 2 == 0, numeros))",
        "print(f\"N\u00fameros pares: {pares}\")"
      ]
    },
    {
      "cell_type": "markdown",
      "metadata": {},
      "source": [
        "## 5. Decoradores",
        "",
        "Los decoradores son funciones que modifican el comportamiento de otras funciones."
      ]
    },
    {
      "cell_type": "code",
      "execution_count": null,
      "metadata": {},
      "outputs": [],
      "source": [
        "def mi_decorador(func):",
        "    def wrapper():",
        "        print(\"Antes de la funci\u00f3n\")",
        "        func()",
        "        print(\"Despu\u00e9s de la funci\u00f3n\")",
        "    return wrapper",
        "",
        "@mi_decorador",
        "def saludar():",
        "    print(\"\u00a1Hola!\")",
        "",
        "# Llamada a la funci\u00f3n decorada",
        "saludar()",
        "",
        "# Decorador con argumentos",
        "def repetir(veces):",
        "    def decorador(func):",
        "        def wrapper(*args, **kwargs):",
        "            for _ in range(veces):",
        "                resultado = func(*args, **kwargs)",
        "            return resultado",
        "        return wrapper",
        "    return decorador",
        "",
        "@repetir(3)",
        "def mensaje(texto):",
        "    print(texto)",
        "",
        "mensaje(\"\u00a1Hola!\")"
      ]
    }
  ],
  "metadata": {
    "kernelspec": {
      "display_name": "Python 3",
      "language": "python",
      "name": "python3"
    },
    "language_info": {
      "codemirror_mode": {
        "name": "ipython",
        "version": 3
      },
      "file_extension": ".py",
      "mimetype": "text/x-python",
      "name": "python",
      "nbconvert_exporter": "python",
      "pygments_lexer": "ipython3",
      "version": "3.8.0"
    }
  },
  "nbformat": 4,
  "nbformat_minor": 4
}