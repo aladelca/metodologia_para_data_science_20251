{
  "cells": [
    {
      "cell_type": "markdown",
      "metadata": {},
      "source": [
        "# Conceptos B\u00e1sicos de Python",
        "",
        "Este notebook introduce los conceptos fundamentales de Python que necesitar\u00e1s para el an\u00e1lisis de datos y machine learning.",
        "",
        "## Contenido",
        "1. Variables y Tipos de Datos",
        "2. Operadores",
        "3. Entrada/Salida B\u00e1sica",
        "4. Comentarios y Documentaci\u00f3n"
      ]
    },
    {
      "cell_type": "markdown",
      "metadata": {},
      "source": [
        "## 1. Variables y Tipos de Datos",
        "",
        "Python es un lenguaje de tipado din\u00e1mico, lo que significa que no necesitas declarar el tipo de una variable expl\u00edcitamente."
      ]
    },
    {
      "cell_type": "code",
      "execution_count": null,
      "metadata": {},
      "outputs": [],
      "source": [
        "# Tipos num\u00e9ricos",
        "entero = 42",
        "flotante = 3.14159",
        "complejo = 3 + 4j",
        "",
        "print(f\"entero: {entero} (tipo: {type(entero)})\")",
        "print(f\"flotante: {flotante} (tipo: {type(flotante)})\")",
        "print(f\"complejo: {complejo} (tipo: {type(complejo)})\")"
      ]
    },
    {
      "cell_type": "code",
      "execution_count": null,
      "metadata": {},
      "outputs": [],
      "source": [
        "# Cadenas de texto",
        "nombre = \"Ada Lovelace\"",
        "descripcion = '''Primera programadora:",
        "Escribi\u00f3 el primer algoritmo para ser",
        "procesado por una m\u00e1quina.'''",
        "",
        "print(f\"nombre: {nombre}\")",
        "print(f\"descripci\u00f3n:\\n{descripcion}\")"
      ]
    },
    {
      "cell_type": "code",
      "execution_count": null,
      "metadata": {},
      "outputs": [],
      "source": [
        "# Booleanos",
        "verdadero = True",
        "falso = False",
        "",
        "print(f\"verdadero: {verdadero}\")",
        "print(f\"falso: {falso}\")"
      ]
    },
    {
      "cell_type": "markdown",
      "metadata": {},
      "source": [
        "## 2. Operadores",
        "",
        "Python proporciona varios tipos de operadores para trabajar con variables."
      ]
    },
    {
      "cell_type": "code",
      "execution_count": null,
      "metadata": {},
      "outputs": [],
      "source": [
        "# Operadores aritm\u00e9ticos",
        "a = 10",
        "b = 3",
        "",
        "print(f\"Suma: {a + b}\")",
        "print(f\"Resta: {a - b}\")",
        "print(f\"Multiplicaci\u00f3n: {a * b}\")",
        "print(f\"Divisi\u00f3n: {a / b}\")",
        "print(f\"Divisi\u00f3n entera: {a // b}\")",
        "print(f\"M\u00f3dulo: {a % b}\")",
        "print(f\"Potencia: {a ** b}\")"
      ]
    },
    {
      "cell_type": "code",
      "execution_count": null,
      "metadata": {},
      "outputs": [],
      "source": [
        "# Operadores de comparaci\u00f3n",
        "x = 5",
        "y = 10",
        "",
        "print(f\"x = {x}, y = {y}\")",
        "print(f\"x < y: {x < y}\")",
        "print(f\"x > y: {x > y}\")",
        "print(f\"x <= y: {x <= y}\")",
        "print(f\"x >= y: {x >= y}\")",
        "print(f\"x == y: {x == y}\")",
        "print(f\"x != y: {x != y}\")"
      ]
    },
    {
      "cell_type": "markdown",
      "metadata": {},
      "source": [
        "## 3. Entrada/Salida B\u00e1sica",
        "",
        "Python proporciona funciones integradas para la entrada y salida de datos."
      ]
    },
    {
      "cell_type": "code",
      "execution_count": null,
      "metadata": {},
      "outputs": [],
      "source": [
        "# Funci\u00f3n print() para salida",
        "nombre = \"Juan\"",
        "edad = 25",
        "",
        "# Diferentes formas de usar print()",
        "print(\"Hola Mundo\")",
        "print(\"Nombre:\", nombre)",
        "print(f\"Edad: {edad}\")  # f-strings (recomendado)",
        "print(\"Mi nombre es {} y tengo {} a\u00f1os\".format(nombre, edad))"
      ]
    },
    {
      "cell_type": "markdown",
      "metadata": {},
      "source": [
        "La funci\u00f3n `input()` se usa para obtener entrada del usuario:",
        "",
        "```python",
        "nombre = input(\"Ingresa tu nombre: \")",
        "edad = int(input(\"Ingresa tu edad: \"))",
        "```",
        "",
        "**Nota**: En Jupyter, es mejor usar variables predefinidas para los ejemplos."
      ]
    },
    {
      "cell_type": "markdown",
      "metadata": {},
      "source": [
        "## 4. Comentarios y Documentaci\u00f3n",
        "",
        "Los comentarios son fundamentales para hacer el c\u00f3digo m\u00e1s comprensible."
      ]
    },
    {
      "cell_type": "code",
      "execution_count": null,
      "metadata": {},
      "outputs": [],
      "source": [
        "# Esto es un comentario de una l\u00ednea",
        "",
        "'''",
        "Esto es un comentario",
        "de m\u00faltiples l\u00edneas",
        "usando comillas simples",
        "'''",
        "",
        "\"\"\"",
        "Tambi\u00e9n puedes usar",
        "comillas dobles para",
        "comentarios multil\u00ednea",
        "\"\"\"",
        "",
        "def suma(a, b):",
        "    \"\"\"",
        "    Suma dos n\u00fameros y retorna el resultado.",
        "    ",
        "    Args:",
        "        a (int): Primer n\u00famero",
        "        b (int): Segundo n\u00famero",
        "    ",
        "    Returns:",
        "        int: La suma de a y b",
        "    \"\"\"",
        "    return a + b",
        "",
        "# Ejemplo de uso de la funci\u00f3n documentada",
        "resultado = suma(5, 3)",
        "print(f\"5 + 3 = {resultado}\")",
        "",
        "# Ver la documentaci\u00f3n",
        "help(suma)"
      ]
    }
  ],
  "metadata": {
    "kernelspec": {
      "display_name": "Python 3",
      "language": "python",
      "name": "python3"
    },
    "language_info": {
      "codemirror_mode": {
        "name": "ipython",
        "version": 3
      },
      "file_extension": ".py",
      "mimetype": "text/x-python",
      "name": "python",
      "nbconvert_exporter": "python",
      "pygments_lexer": "ipython3",
      "version": "3.8.0"
    }
  },
  "nbformat": 4,
  "nbformat_minor": 4
}
