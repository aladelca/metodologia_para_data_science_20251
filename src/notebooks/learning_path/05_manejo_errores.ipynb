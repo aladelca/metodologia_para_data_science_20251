{
  "cells": [
    {
      "cell_type": "markdown",
      "metadata": {},
      "source": [
        "# Manejo de Errores en Python",
        "",
        "Este notebook explora las t\u00e9cnicas de manejo de errores y excepciones en Python.",
        "",
        "## Contenido",
        "1. Tipos de Errores Comunes",
        "2. Try/Except",
        "3. Raise",
        "4. Finally y Else",
        "5. Creaci\u00f3n de Excepciones Personalizadas"
      ]
    },
    {
      "cell_type": "markdown",
      "metadata": {},
      "source": [
        "## 1. Tipos de Errores Comunes",
        "",
        "Python tiene varios tipos de errores incorporados."
      ]
    },
    {
      "cell_type": "code",
      "execution_count": null,
      "metadata": {},
      "outputs": [],
      "source": [
        "# TypeError",
        "try:",
        "    resultado = \"2\" + 2",
        "except TypeError as e:",
        "    print(f\"TypeError: {e}\")",
        "",
        "# ZeroDivisionError",
        "try:",
        "    resultado = 10 / 0",
        "except ZeroDivisionError as e:",
        "    print(f\"ZeroDivisionError: {e}\")",
        "",
        "# IndexError",
        "try:",
        "    lista = [1, 2, 3]",
        "    elemento = lista[5]",
        "except IndexError as e:",
        "    print(f\"IndexError: {e}\")",
        "",
        "# KeyError",
        "try:",
        "    diccionario = {\"a\": 1, \"b\": 2}",
        "    valor = diccionario[\"c\"]",
        "except KeyError as e:",
        "    print(f\"KeyError: {e}\")"
      ]
    },
    {
      "cell_type": "markdown",
      "metadata": {},
      "source": [
        "## 2. Try/Except",
        "",
        "El bloque try/except es la base del manejo de errores."
      ]
    },
    {
      "cell_type": "code",
      "execution_count": null,
      "metadata": {},
      "outputs": [],
      "source": [
        "def dividir_numeros(a, b):",
        "    try:",
        "        resultado = a / b",
        "        return resultado",
        "    except ZeroDivisionError:",
        "        return \"No se puede dividir por cero\"",
        "    except TypeError:",
        "        return \"Ambos valores deben ser n\u00fameros\"",
        "",
        "# Probar la funci\u00f3n",
        "print(dividir_numeros(10, 2))",
        "print(dividir_numeros(10, 0))",
        "print(dividir_numeros(10, \"2\"))",
        "",
        "# Capturar m\u00faltiples excepciones",
        "def procesar_dato(dato):",
        "    try:",
        "        num = float(dato)",
        "        resultado = 10 / num",
        "        return resultado",
        "    except (ValueError, ZeroDivisionError) as e:",
        "        return f\"Error: {type(e).__name__} - {str(e)}\"",
        "",
        "print(procesar_dato(\"abc\"))",
        "print(procesar_dato(\"0\"))"
      ]
    },
    {
      "cell_type": "markdown",
      "metadata": {},
      "source": [
        "## 3. Raise",
        "",
        "`raise` permite lanzar excepciones manualmente."
      ]
    },
    {
      "cell_type": "code",
      "execution_count": null,
      "metadata": {},
      "outputs": [],
      "source": [
        "def validar_edad(edad):",
        "    if not isinstance(edad, int):",
        "        raise TypeError(\"La edad debe ser un n\u00famero entero\")",
        "    if edad < 0:",
        "        raise ValueError(\"La edad no puede ser negativa\")",
        "    if edad > 150:",
        "        raise ValueError(\"Edad no v\u00e1lida\")",
        "    return \"Edad v\u00e1lida\"",
        "",
        "# Probar la funci\u00f3n",
        "try:",
        "    print(validar_edad(25))",
        "    print(validar_edad(-5))",
        "except ValueError as e:",
        "    print(f\"Error de validaci\u00f3n: {e}\")"
      ]
    },
    {
      "cell_type": "markdown",
      "metadata": {},
      "source": [
        "## 4. Finally y Else",
        "",
        "`finally` se ejecuta siempre, mientras que `else` solo si no hay excepciones."
      ]
    },
    {
      "cell_type": "code",
      "execution_count": null,
      "metadata": {},
      "outputs": [],
      "source": [
        "def procesar_archivo(nombre):",
        "    try:",
        "        f = open(nombre, 'r')",
        "    except FileNotFoundError:",
        "        print(\"El archivo no existe\")",
        "    else:",
        "        print(\"Archivo abierto exitosamente\")",
        "        f.close()",
        "    finally:",
        "        print(\"Proceso terminado\")",
        "",
        "# Probar con un archivo que no existe",
        "procesar_archivo(\"archivo_inexistente.txt\")",
        "",
        "# Ejemplo con else",
        "def convertir_a_entero(texto):",
        "    try:",
        "        numero = int(texto)",
        "    except ValueError:",
        "        print(\"No se pudo convertir a entero\")",
        "    else:",
        "        print(\"Conversi\u00f3n exitosa\")",
        "        return numero",
        "    finally:",
        "        print(\"Proceso de conversi\u00f3n terminado\")",
        "",
        "print(convertir_a_entero(\"123\"))",
        "print(convertir_a_entero(\"abc\"))"
      ]
    },
    {
      "cell_type": "markdown",
      "metadata": {},
      "source": [
        "## 5. Creaci\u00f3n de Excepciones Personalizadas",
        "",
        "Podemos crear nuestras propias clases de excepciones."
      ]
    },
    {
      "cell_type": "code",
      "execution_count": null,
      "metadata": {},
      "outputs": [],
      "source": [
        "class SaldoInsuficienteError(Exception):",
        "    \"\"\"Excepci\u00f3n lanzada cuando no hay suficiente saldo.\"\"\"",
        "    def __init__(self, saldo, cantidad):",
        "        self.saldo = saldo",
        "        self.cantidad = cantidad",
        "        self.mensaje = f\"No hay suficiente saldo. Saldo: {saldo}\u20ac, Cantidad solicitada: {cantidad}\u20ac\"",
        "        super().__init__(self.mensaje)",
        "",
        "class CuentaBancaria:",
        "    def __init__(self, saldo_inicial):",
        "        self.saldo = saldo_inicial",
        "    ",
        "    def retirar(self, cantidad):",
        "        if cantidad > self.saldo:",
        "            raise SaldoInsuficienteError(self.saldo, cantidad)",
        "        self.saldo -= cantidad",
        "        return f\"Retiro exitoso. Nuevo saldo: {self.saldo}\u20ac\"",
        "",
        "# Probar la excepci\u00f3n personalizada",
        "cuenta = CuentaBancaria(100)",
        "",
        "try:",
        "    print(cuenta.retirar(50))",
        "    print(cuenta.retirar(100))",
        "except SaldoInsuficienteError as e:",
        "    print(f\"Error: {e}\")"
      ]
    }
  ],
  "metadata": {
    "kernelspec": {
      "display_name": "Python 3",
      "language": "python",
      "name": "python3"
    },
    "language_info": {
      "codemirror_mode": {
        "name": "ipython",
        "version": 3
      },
      "file_extension": ".py",
      "mimetype": "text/x-python",
      "name": "python",
      "nbconvert_exporter": "python",
      "pygments_lexer": "ipython3",
      "version": "3.8.0"
    }
  },
  "nbformat": 4,
  "nbformat_minor": 4
}