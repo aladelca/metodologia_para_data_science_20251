{
  "cells": [
    {
      "cell_type": "markdown",
      "metadata": {},
      "source": [
        "# Est\u00e1ndares de C\u00f3digo en Python",
        "",
        "Este notebook explora las mejores pr\u00e1cticas y est\u00e1ndares para escribir c\u00f3digo Python de alta calidad."
      ]
    },
    {
      "cell_type": "markdown",
      "metadata": {},
      "source": [
        "## 1. PEP 8 - Gu\u00eda de Estilo",
        "",
        "La gu\u00eda de estilo oficial para c\u00f3digo Python."
      ]
    },
    {
      "cell_type": "code",
      "execution_count": null,
      "metadata": {},
      "outputs": [],
      "source": [
        "# Ejemplos de nombres",
        "nombre_usuario = \"Juan\"  # snake_case para variables",
        "MAX_INTENTOS = 3  # UPPER_CASE para constantes",
        "",
        "class UsuarioRegistrado:  # PascalCase para clases",
        "    def __init__(self):",
        "        self._saldo = 0  # underscore para privados"
      ]
    },
    {
      "cell_type": "markdown",
      "metadata": {},
      "source": [
        "## 2. Type Hints",
        "",
        "Las anotaciones de tipo mejoran la robustez del c\u00f3digo."
      ]
    },
    {
      "cell_type": "code",
      "execution_count": null,
      "metadata": {},
      "outputs": [],
      "source": [
        "from typing import List, Dict, Optional",
        "",
        "def procesar_datos(valores: List[float]) -> Dict[str, float]:",
        "    return {\"media\": sum(valores) / len(valores)}"
      ]
    },
    {
      "cell_type": "markdown",
      "metadata": {},
      "source": [
        "## 3. Testing",
        "",
        "El testing es fundamental para la calidad del c\u00f3digo."
      ]
    },
    {
      "cell_type": "code",
      "execution_count": null,
      "metadata": {},
      "outputs": [],
      "source": [
        "import pytest",
        "",
        "def test_suma():",
        "    assert 1 + 1 == 2"
      ]
    },
    {
      "cell_type": "markdown",
      "metadata": {},
      "source": [
        "## 4. Principios SOLID",
        "",
        "Principios fundamentales para c\u00f3digo mantenible."
      ]
    },
    {
      "cell_type": "code",
      "execution_count": null,
      "metadata": {},
      "outputs": [],
      "source": [
        "from abc import ABC, abstractmethod",
        "",
        "class Figura(ABC):",
        "    @abstractmethod",
        "    def area(self) -> float:",
        "        pass",
        "",
        "class Rectangulo(Figura):",
        "    def area(self) -> float:",
        "        return self.base * self.altura"
      ]
    }
  ],
  "metadata": {
    "kernelspec": {
      "display_name": "Python 3",
      "language": "python",
      "name": "python3"
    },
    "language_info": {
      "codemirror_mode": {
        "name": "ipython",
        "version": 3
      },
      "file_extension": ".py",
      "mimetype": "text/x-python",
      "name": "python",
      "nbconvert_exporter": "python",
      "pygments_lexer": "ipython3",
      "version": "3.8.0"
    }
  },
  "nbformat": 4,
  "nbformat_minor": 4
}
