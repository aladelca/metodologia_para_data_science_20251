{
 "cells": [
  {
   "cell_type": "code",
   "execution_count": null,
   "id": "a40af23f",
   "metadata": {},
   "outputs": [],
   "source": [
    "import pandas as pd\n",
    "import numpy as np\n",
    "import matplotlib.pyplot as plt\n",
    "import seaborn as sns\n",
    "import os\n",
    "import warnings \n",
    "\n",
    "warnings.filterwarnings(\"ignore\")"
   ]
  },
  {
   "cell_type": "code",
   "execution_count": null,
   "id": "e5059e8a",
   "metadata": {},
   "outputs": [],
   "source": [
    "os.chdir(\"..\")\n",
    "from pipeline.preprocesamiento import obtener_datos_bcrp"
   ]
  },
  {
   "cell_type": "code",
   "execution_count": null,
   "id": "89d483f8",
   "metadata": {},
   "outputs": [],
   "source": [
    "from pipeline.config import SERIE_ORO, RUTA_ORO, SERIE_AFP, SERIE_TC, RUTA_AFP, RUTA_TC\n",
    "from pipeline.preprocesamiento import limpiar_datos_bcrp\n",
    "df_oro = obtener_datos_bcrp(SERIE_ORO)\n",
    "df_afp = obtener_datos_bcrp(SERIE_AFP)\n",
    "df_tc = obtener_datos_bcrp(SERIE_TC)\n",
    "limpiar_datos_bcrp(df_oro, False, False, RUTA_ORO) \n",
    "limpiar_datos_bcrp(df_afp, True, False, RUTA_AFP)\n",
    "limpiar_datos_bcrp(df_tc, False, True, RUTA_TC)"
   ]
  },
  {
   "cell_type": "code",
   "execution_count": null,
   "id": "6cc9b7a1",
   "metadata": {},
   "outputs": [],
   "source": [
    "# Analizar datos\n",
    "\n",
    "df_oro = pd.read_csv(RUTA_ORO)\n",
    "df_afp = pd.read_csv(RUTA_AFP)\n",
    "df_tc = pd.read_csv(RUTA_TC)"
   ]
  },
  {
   "cell_type": "code",
   "execution_count": null,
   "id": "4f4dd21b",
   "metadata": {},
   "outputs": [],
   "source": [
    "# Analizar la tendencia del oro\n",
    "\n",
    "sns.lineplot(df_oro, x = \"periodo_limpio\", y= \"valor_limpio\")\n",
    "plt.title(\"Tendencia del oro\")\n",
    "plt.xlabel(\"Fecha\")\n",
    "plt.ylabel(\"Valor del oro\")\n",
    "plt.xticks(rotation=45)\n",
    "plt.show()"
   ]
  },
  {
   "cell_type": "code",
   "execution_count": null,
   "id": "28fb0a89",
   "metadata": {},
   "outputs": [],
   "source": [
    "# Calcular el porcentaje de retorno anual\n",
    "\n",
    "df_oro[\"retorno_anual\"] = df_oro[\"valor_limpio\"].pct_change(periods=12) \n",
    "\n",
    "\n",
    "sns.lineplot(\n",
    "    df_oro[df_oro[\"retorno_anual\"].isna() == False],\n",
    "    x = \"periodo_limpio\",\n",
    "    y= \"retorno_anual\",\n",
    ")\n",
    "\n",
    "plt.title(\"Tendencia del retorno anual del oro\")\n",
    "plt.xlabel(\"Fecha\")\n",
    "plt.ylabel(\"Retorno anual\")\n",
    "plt.xticks(rotation=45)\n",
    "plt.show()"
   ]
  },
  {
   "cell_type": "code",
   "execution_count": null,
   "id": "befd36e2",
   "metadata": {},
   "outputs": [],
   "source": [
    "\n",
    "sns.lineplot(\n",
    "    df_afp, \n",
    "    x = \"periodo_limpio\", \n",
    "    y= \"valor_limpio\",\n",
    "    label = \"AFP\")\n",
    "sns.lineplot(\n",
    "    df_oro[df_oro[\"retorno_anual\"].isna() == False],\n",
    "    x = \"periodo_limpio\",\n",
    "    y= \"retorno_anual\",\n",
    "    label = \"Oro\",\n",
    ")\n",
    "\n",
    "#plt.title(\"Tendencia de los fondos de pensiones\")\n",
    "#plt.xlabel(\"Fecha\")\n",
    "#plt.ylabel(\"Valor de los fondos de pensiones\")\n",
    "plt.xticks(rotation=45)\n",
    "plt.show()"
   ]
  },
  {
   "cell_type": "code",
   "execution_count": null,
   "id": "6925c587",
   "metadata": {},
   "outputs": [],
   "source": [
    "df_spy = pd.read_csv(\"data/raw/spy500.csv\", sep = \";\", parse_dates=[\"periodo\"])\n",
    "## Calcular promedio mensual\n",
    "# Convertir la columna \"periodo\" a tipo datetime\n",
    "\n",
    "df_spy[\"periodo\"] = pd.to_datetime(df_spy[\"periodo\"], format=\"%d/%m/%Y\")\n",
    "\n",
    "df_spy_final = (\n",
    "    df_spy\n",
    "    .groupby(df_spy[\"periodo\"].dt.to_period(\"M\"))\n",
    "    .mean(numeric_only=True)\n",
    "    .reset_index(names=\"periodo_clean\")\n",
    ")\n",
    "df_spy_final[\"periodo_clean\"] = df_spy_final[\"periodo_clean\"].dt.to_timestamp()\n",
    "# Convertir \"periodo_clean\" a primer día del mes\n",
    "df_spy_final[\"periodo_clean\"] = pd.to_datetime(df_spy_final[\"periodo_clean\"]).values.astype('datetime64[M]')\n",
    "\n",
    "# Calcular el retorno anual\n",
    "df_spy_final[\"retorno_anual\"] = df_spy_final[\"valor SPY\"].pct_change(periods=12)\n",
    "df_spy_final[\"periodo_limpio\"] = df_spy_final[\"periodo_clean\"].astype(str)"
   ]
  },
  {
   "cell_type": "code",
   "execution_count": null,
   "id": "d2d71e1f",
   "metadata": {},
   "outputs": [],
   "source": [
    "df_afp.rename(columns = {\"valor_limpio\": \"valor_afp\"}, inplace = True)\n",
    "df_oro.rename(columns = {\"retorno_anual\": \"retorno_oro\"}, inplace = True)\n",
    "df_spy_final.rename(columns = {\"retorno_anual\": \"retorno_spy\"}, inplace = True)"
   ]
  },
  {
   "cell_type": "code",
   "execution_count": null,
   "id": "e73674a7",
   "metadata": {},
   "outputs": [],
   "source": [
    "df_final = df_spy_final.merge(df_afp, how = \"left\", on = \"periodo_limpio\").merge(df_oro, how = \"left\", on = \"periodo_limpio\").drop(columns = [\"periodo_clean\"])\n",
    "\n",
    "df_final[df_final[\"periodo_limpio\"]> \"2023-03-01\"]"
   ]
  },
  {
   "cell_type": "code",
   "execution_count": null,
   "id": "1990a52c",
   "metadata": {},
   "outputs": [],
   "source": [
    "sns.lineplot(\n",
    "    df_final[df_final[\"periodo_limpio\"]> \"2023-03-01\"], \n",
    "    x = \"periodo_limpio\", \n",
    "    y= \"retorno_spy\",\n",
    "    label = \"spy\")\n",
    "sns.lineplot(\n",
    "    df_final[df_final[\"periodo_limpio\"]> \"2023-03-01\"], \n",
    "    x = \"periodo_limpio\", \n",
    "    y= \"valor_afp\",\n",
    "    label = \"afp\")\n",
    "\n",
    "sns.lineplot(\n",
    "    df_final[df_final[\"periodo_limpio\"]> \"2023-03-01\"], \n",
    "    x = \"periodo_limpio\", \n",
    "    y= \"retorno_oro\",\n",
    "    label = \"oro\")\n",
    "#plt.title(\"Tendencia de los fondos de pensiones\")\n",
    "#plt.xlabel(\"Fecha\")\n",
    "plt.ylabel(\"Retorno\")\n",
    "plt.xticks(rotation=45)\n",
    "plt.show()"
   ]
  },
  {
   "cell_type": "code",
   "execution_count": null,
   "id": "3b4939b3",
   "metadata": {},
   "outputs": [],
   "source": [
    "df_oro.dtypes"
   ]
  }
 ],
 "metadata": {
  "kernelspec": {
   "display_name": ".venv",
   "language": "python",
   "name": "python3"
  },
  "language_info": {
   "codemirror_mode": {
    "name": "ipython",
    "version": 3
   },
   "file_extension": ".py",
   "mimetype": "text/x-python",
   "name": "python",
   "nbconvert_exporter": "python",
   "pygments_lexer": "ipython3",
   "version": "3.12.7"
  }
 },
 "nbformat": 4,
 "nbformat_minor": 5
}
