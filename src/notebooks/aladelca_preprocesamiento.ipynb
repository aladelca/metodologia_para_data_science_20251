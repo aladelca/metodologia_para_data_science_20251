{
 "cells": [
  {
   "cell_type": "code",
   "execution_count": 2,
   "id": "f750b50c",
   "metadata": {},
   "outputs": [],
   "source": [
    "import pandas as pd\n",
    "df_spy = pd.read_csv(\"../data/raw/spy500.csv\", sep = \";\", parse_dates=[\"periodo\"])"
   ]
  },
  {
   "cell_type": "code",
   "execution_count": 10,
   "id": "db35bb8f",
   "metadata": {},
   "outputs": [],
   "source": [
    "# Este paso lo tienen que considerar ustedes al momento de extraer los datos\n",
    "df_spy[\"periodo\"] = pd.to_datetime(df_spy[\"periodo\"], format=\"%d/%m/%Y\")\n",
    "df_spy.to_csv(\"../data/raw/spy500_raw.csv\", index=False)"
   ]
  },
  {
   "cell_type": "code",
   "execution_count": 14,
   "id": "92c876f8",
   "metadata": {},
   "outputs": [
    {
     "data": {
      "text/html": [
       "<div>\n",
       "<style scoped>\n",
       "    .dataframe tbody tr th:only-of-type {\n",
       "        vertical-align: middle;\n",
       "    }\n",
       "\n",
       "    .dataframe tbody tr th {\n",
       "        vertical-align: top;\n",
       "    }\n",
       "\n",
       "    .dataframe thead th {\n",
       "        text-align: right;\n",
       "    }\n",
       "</style>\n",
       "<table border=\"1\" class=\"dataframe\">\n",
       "  <thead>\n",
       "    <tr style=\"text-align: right;\">\n",
       "      <th></th>\n",
       "      <th>valor SPY</th>\n",
       "    </tr>\n",
       "    <tr>\n",
       "      <th>periodo</th>\n",
       "      <th></th>\n",
       "    </tr>\n",
       "  </thead>\n",
       "  <tbody>\n",
       "    <tr>\n",
       "      <th>2020-01-02</th>\n",
       "      <td>300.291596</td>\n",
       "    </tr>\n",
       "    <tr>\n",
       "      <th>2020-01-03</th>\n",
       "      <td>298.017761</td>\n",
       "    </tr>\n",
       "    <tr>\n",
       "      <th>2020-01-06</th>\n",
       "      <td>299.154602</td>\n",
       "    </tr>\n",
       "    <tr>\n",
       "      <th>2020-01-07</th>\n",
       "      <td>298.313507</td>\n",
       "    </tr>\n",
       "    <tr>\n",
       "      <th>2020-01-08</th>\n",
       "      <td>299.903412</td>\n",
       "    </tr>\n",
       "    <tr>\n",
       "      <th>...</th>\n",
       "      <td>...</td>\n",
       "    </tr>\n",
       "    <tr>\n",
       "      <th>2025-04-17</th>\n",
       "      <td>526.409973</td>\n",
       "    </tr>\n",
       "    <tr>\n",
       "      <th>2025-04-21</th>\n",
       "      <td>513.880005</td>\n",
       "    </tr>\n",
       "    <tr>\n",
       "      <th>2025-04-22</th>\n",
       "      <td>527.250000</td>\n",
       "    </tr>\n",
       "    <tr>\n",
       "      <th>2025-04-23</th>\n",
       "      <td>535.419983</td>\n",
       "    </tr>\n",
       "    <tr>\n",
       "      <th>2025-04-24</th>\n",
       "      <td>546.690002</td>\n",
       "    </tr>\n",
       "  </tbody>\n",
       "</table>\n",
       "<p>1335 rows × 1 columns</p>\n",
       "</div>"
      ],
      "text/plain": [
       "             valor SPY\n",
       "periodo               \n",
       "2020-01-02  300.291596\n",
       "2020-01-03  298.017761\n",
       "2020-01-06  299.154602\n",
       "2020-01-07  298.313507\n",
       "2020-01-08  299.903412\n",
       "...                ...\n",
       "2025-04-17  526.409973\n",
       "2025-04-21  513.880005\n",
       "2025-04-22  527.250000\n",
       "2025-04-23  535.419983\n",
       "2025-04-24  546.690002\n",
       "\n",
       "[1335 rows x 1 columns]"
      ]
     },
     "execution_count": 14,
     "metadata": {},
     "output_type": "execute_result"
    }
   ],
   "source": [
    "df_spy"
   ]
  },
  {
   "cell_type": "code",
   "execution_count": null,
   "id": "0594ad5e",
   "metadata": {},
   "outputs": [],
   "source": [
    "def get_lags(df, col, date_col, n):\n",
    "    \"\"\"\n",
    "    Get the lagged values of a DataFrame.\n",
    "    \n",
    "    Parameters:\n",
    "    df (DataFrame): The DataFrame to lag.\n",
    "    n (int): The number of lags to create.\n",
    "    \n",
    "    Returns:\n",
    "    DataFrame: A DataFrame with the lagged values.\n",
    "    \"\"\"\n",
    "    \n",
    "    df = df.copy()\n",
    "    df.set_index(date_col, inplace=True)\n",
    "    df.sort_index(inplace=True)\n",
    "    for i in range(1, n + 1):\n",
    "        df[f\"lag_{i}\"] = df[col].shift(i)\n",
    "    return df\n",
    "\n",
    "get_lags(df_spy, \"valor SPY\")\n"
   ]
  }
 ],
 "metadata": {
  "kernelspec": {
   "display_name": ".venv",
   "language": "python",
   "name": "python3"
  },
  "language_info": {
   "codemirror_mode": {
    "name": "ipython",
    "version": 3
   },
   "file_extension": ".py",
   "mimetype": "text/x-python",
   "name": "python",
   "nbconvert_exporter": "python",
   "pygments_lexer": "ipython3",
   "version": "3.12.7"
  }
 },
 "nbformat": 4,
 "nbformat_minor": 5
}
