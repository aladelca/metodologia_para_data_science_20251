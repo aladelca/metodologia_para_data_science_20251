{
  "cells": [
    {
      "cell_type": "markdown",
      "metadata": {},
      "source": [
        "# Estructuras de Control en Python",
        "",
        "Este notebook cubre las estructuras de control fundamentales en Python.",
        "",
        "## Contenido",
        "1. Condicionales (if, elif, else)",
        "2. Bucles (for, while)",
        "3. Control de Bucles (break, continue)",
        "4. Manejo de Excepciones (try/except)"
      ]
    },
    {
      "cell_type": "markdown",
      "metadata": {},
      "source": [
        "## 1. Condicionales",
        "",
        "Las estructuras condicionales permiten ejecutar diferentes bloques de c\u00f3digo seg\u00fan se cumplan ciertas condiciones."
      ]
    },
    {
      "cell_type": "code",
      "execution_count": null,
      "metadata": {},
      "outputs": [],
      "source": [
        "# Ejemplo b\u00e1sico de if",
        "edad = 18",
        "",
        "if edad >= 18:",
        "    print(\"Eres mayor de edad\")",
        "else:",
        "    print(\"Eres menor de edad\")",
        "",
        "# Ejemplo con elif",
        "nota = 85",
        "",
        "if nota >= 90:",
        "    print(\"A - Excelente\")",
        "elif nota >= 80:",
        "    print(\"B - Bueno\")",
        "elif nota >= 70:",
        "    print(\"C - Regular\")",
        "else:",
        "    print(\"D - Necesita mejorar\")"
      ]
    },
    {
      "cell_type": "markdown",
      "metadata": {},
      "source": [
        "## 2. Bucles",
        "",
        "Python proporciona dos tipos principales de bucles: `for` y `while`."
      ]
    },
    {
      "cell_type": "code",
      "execution_count": null,
      "metadata": {},
      "outputs": [],
      "source": [
        "# Bucle for con range",
        "print(\"Contando del 1 al 5:\")",
        "for i in range(1, 6):",
        "    print(i)",
        "",
        "# Bucle for con lista",
        "frutas = [\"manzana\", \"banana\", \"naranja\"]",
        "print(\"\\nLista de frutas:\")",
        "for fruta in frutas:",
        "    print(fruta)",
        "",
        "# Bucle while",
        "print(\"\\nCuenta regresiva:\")",
        "contador = 5",
        "while contador > 0:",
        "    print(contador)",
        "    contador -= 1",
        "print(\"\u00a1Despegue!\")"
      ]
    },
    {
      "cell_type": "markdown",
      "metadata": {},
      "source": [
        "## 3. Control de Bucles",
        "",
        "Las declaraciones `break` y `continue` permiten un control m\u00e1s fino sobre los bucles."
      ]
    },
    {
      "cell_type": "code",
      "execution_count": null,
      "metadata": {},
      "outputs": [],
      "source": [
        "# Ejemplo de break",
        "print(\"Buscando el primer n\u00famero par:\")",
        "for num in range(1, 10, 2):  # N\u00fameros impares",
        "    if num * 2 > 10:",
        "        break",
        "    print(f\"{num} * 2 = {num * 2}\")",
        "print(\"Bucle terminado\\n\")",
        "",
        "# Ejemplo de continue",
        "print(\"N\u00fameros del 1 al 5, saltando el 3:\")",
        "for i in range(1, 6):",
        "    if i == 3:",
        "        continue",
        "    print(i)"
      ]
    },
    {
      "cell_type": "markdown",
      "metadata": {},
      "source": [
        "## 4. Manejo de Excepciones",
        "",
        "El manejo de excepciones permite manejar errores de forma elegante."
      ]
    },
    {
      "cell_type": "code",
      "execution_count": null,
      "metadata": {},
      "outputs": [],
      "source": [
        "# Ejemplo b\u00e1sico de try/except",
        "def dividir(a, b):",
        "    try:",
        "        resultado = a / b",
        "        print(f\"{a} / {b} = {resultado}\")",
        "    except ZeroDivisionError:",
        "        print(\"\u00a1Error! No se puede dividir por cero\")",
        "    except TypeError:",
        "        print(\"\u00a1Error! Los argumentos deben ser n\u00fameros\")",
        "    finally:",
        "        print(\"Operaci\u00f3n completada\")",
        "",
        "# Probando la funci\u00f3n",
        "print(\"Caso 1: Divisi\u00f3n normal\")",
        "dividir(10, 2)",
        "",
        "print(\"\\nCaso 2: Divisi\u00f3n por cero\")",
        "dividir(10, 0)",
        "",
        "print(\"\\nCaso 3: Tipo de dato incorrecto\")",
        "dividir(10, \"2\"))"
      ]
    }
  ],
  "metadata": {
    "kernelspec": {
      "display_name": "Python 3",
      "language": "python",
      "name": "python3"
    },
    "language_info": {
      "codemirror_mode": {
        "name": "ipython",
        "version": 3
      },
      "file_extension": ".py",
      "mimetype": "text/x-python",
      "name": "python",
      "nbconvert_exporter": "python",
      "pygments_lexer": "ipython3",
      "version": "3.8.0"
    }
  },
  "nbformat": 4,
  "nbformat_minor": 4
}
