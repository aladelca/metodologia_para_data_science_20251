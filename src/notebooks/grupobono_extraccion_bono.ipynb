 {
 "cells": [
  {
   "cell_type": "markdown",
   "metadata": {},
   "source": [
    "## BONO"
   ]
  },
  {
   "cell_type": "code",
   "execution_count": null,
   "metadata": {},
   "outputs": [],
   "source": [
    "import pandas as pd\n",
    "import requests\n",
    "import json\n",
    "from datetime import datetime\n",
    "\n",
    "# URL de la API\n",
    "url = \"https://estadisticas.bcrp.gob.pe/estadisticas/series/api/PD04719XD/json\"\n",
    "\n",
    "# Realizar la petición\n",
    "response = requests.get(url)\n",
    "\n",
    "# Verificar que la petición fue exitosa\n",
    "if response.status_code == 200:\n",
    "    # Convertir la respuesta a un diccionario de Python\n",
    "    data = response.json()\n",
    "    \n",
    "    # Crear diccionario para guardar los datos\n",
    "    df = {}\n",
    "    periodos = []\n",
    "    tasas = []\n",
    "    # Iterar sobre todos los periodos para extraer las tasas\n",
    "    for period in data['periods']:\n",
    "        periodos.append(period[\"name\"])\n",
    "        tasas.append(period[\"values\"][0])\n",
    "        \n",
    "    df[\"periodo\"] = periodos\n",
    "    df[\"tasa\"] = tasas\n",
    "else:\n",
    "    print(f\"Error al hacer la petición: {response.status_code}\")\n",
    "\n",
    "# Diccionario de mapeo de meses en español\n",
    "meses_espanol = {\n",
    "    'Ene.': 'Jan', 'Feb.': 'Feb', 'Mar.': 'Mar', 'Abr.': 'Apr',\n",
    "    'May.': 'May', 'Jun.': 'Jun', 'Jul.': 'Jul', 'Ago.': 'Aug',\n",
    "    'Sep.': 'Sep', 'Oct.': 'Oct', 'Nov.': 'Nov', 'Dic.': 'Dec'\n",
    "}\n",
    "\n",
    "# Función para transformar las fechas\n",
    "def convertir_fecha(fecha_str):\n",
    "    dia = fecha_str[:2]\n",
    "    mes_espanol = fecha_str[3:7]\n",
    "    anio = fecha_str[7:]\n",
    "    mes_ingles = meses_espanol[mes_espanol]\n",
    "    fecha_ingles = f\"{dia} {mes_ingles} {anio}\"\n",
    "    return datetime.strptime(fecha_ingles, \"%d %b %y\")\n",
    "\n",
    "df_bono = pd.DataFrame(df)\n",
    "df_bono[\"periodo_limpio\"] = df_bono['periodo'].apply(convertir_fecha)\n",
    "df_bono[\"tasa_limpia\"] = df_bono[\"tasa\"].astype(float)\n",
    "print(df_bono[[\"periodo_limpio\",\"tasa_limpia\"]]) "
   ]
  }
 ],
 "metadata": {
  "language_info": {
   "name": "python"
  }
 },
 "nbformat": 4,
 "nbformat_minor": 2
}
